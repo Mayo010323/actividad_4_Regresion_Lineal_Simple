{
  "nbformat": 4,
  "nbformat_minor": 0,
  "metadata": {
    "colab": {
      "provenance": [],
      "authorship_tag": "ABX9TyPvfJvI02JQ2D//HltpOqJP",
      "include_colab_link": true
    },
    "kernelspec": {
      "name": "python3",
      "display_name": "Python 3"
    },
    "language_info": {
      "name": "python"
    }
  },
  "cells": [
    {
      "cell_type": "markdown",
      "metadata": {
        "id": "view-in-github",
        "colab_type": "text"
      },
      "source": [
        "<a href=\"https://colab.research.google.com/github/Mayo010323/actividad_4_Regresion_Lineal_Simple/blob/main/Actividad_4_(Regresi%C3%B3n_Lineal_Simple).ipynb\" target=\"_parent\"><img src=\"https://colab.research.google.com/assets/colab-badge.svg\" alt=\"Open In Colab\"/></a>"
      ]
    },
    {
      "cell_type": "code",
      "execution_count": 1,
      "metadata": {
        "id": "hyv_cS7AHUIe"
      },
      "outputs": [],
      "source": [
        "import pandas as pd\n",
        "import numpy as np\n",
        "import matplotlib.pyplot as plt\n",
        "import seaborn as sns"
      ]
    },
    {
      "cell_type": "code",
      "source": [
        "df = pd.read_csv('/content/DF_Mexico.csv')\n",
        "df.head(5)"
      ],
      "metadata": {
        "id": "PBBaGwATSzxT"
      },
      "execution_count": null,
      "outputs": []
    },
    {
      "cell_type": "code",
      "source": [
        "df = df[['host_acceptance_rate','host_response_rate','room_type','price','number_of_reviews',\n",
        "         'review_scores_location','review_scores_cleanliness','availability_365','reviews_per_month','review_scores_communication']]\n",
        "df"
      ],
      "metadata": {
        "id": "-7--wfgRAPvQ"
      },
      "execution_count": null,
      "outputs": []
    },
    {
      "cell_type": "code",
      "source": [
        "valores_a_mantener = [\"Private room\", \"Hotel room\"]\n",
        "\n",
        "\n",
        "mascara = df['room_type'].isin(valores_a_mantener)\n",
        "\n",
        "df = df[mascara].reset_index(drop=True)\n",
        "df"
      ],
      "metadata": {
        "id": "FR7WtLFlAR15"
      },
      "execution_count": null,
      "outputs": []
    },
    {
      "cell_type": "code",
      "source": [
        "valores_nulos=df.isnull().sum()\n",
        "valores_nulos"
      ],
      "metadata": {
        "id": "VCPHur2_Aw1Q"
      },
      "execution_count": null,
      "outputs": []
    },
    {
      "cell_type": "code",
      "source": [
        "df = df.dropna().reset_index(drop=True)\n",
        "df"
      ],
      "metadata": {
        "id": "VdWiOj2aAzTN"
      },
      "execution_count": null,
      "outputs": []
    },
    {
      "cell_type": "code",
      "source": [
        "valores_nulos=df.isnull().sum()\n",
        "valores_nulos"
      ],
      "metadata": {
        "id": "8FEijXeLA0_c"
      },
      "execution_count": null,
      "outputs": []
    },
    {
      "cell_type": "code",
      "source": [
        "df['price'] = df['price'].str.replace('$', '',regex=True).replace(',', '',regex=True)\n",
        "df = df.replace('%', '', regex=True)\n",
        "df = df.astype({\"host_acceptance_rate\": \"int32\",\n",
        "                \"host_response_rate\":\"int32\",\n",
        "                \"price\":\"float64\"})"
      ],
      "metadata": {
        "id": "VwNs5oXVA2qv"
      },
      "execution_count": null,
      "outputs": []
    },
    {
      "cell_type": "code",
      "source": [
        "fig, axs = plt.subplots(5,2, figsize=(15, 20))\n",
        "\n",
        "\n",
        "axs = axs.ravel()\n",
        "\n",
        "for i,variable in zip(range(len(df.drop('room_type',axis=1).columns)),df.drop('room_type',axis=1).columns):\n",
        "  axs[i].boxplot(df[variable])\n",
        "  axs[i].set(ylabel='Cantidad')\n",
        "  axs[i].set_title(variable)\n",
        ""
      ],
      "metadata": {
        "id": "sA4pO-qxA5C-"
      },
      "execution_count": null,
      "outputs": []
    },
    {
      "cell_type": "code",
      "source": [
        "outliers_col = {}\n",
        "\n",
        "for columna in df.drop('room_type',axis=1).columns:\n",
        "  Q1 = df[columna].quantile(0.25)\n",
        "  Q3 = df[columna].quantile(0.75)\n",
        "\n",
        "\n",
        "  IQR = Q3 - Q1\n",
        "\n",
        "\n",
        "  lim_inf = Q1 - 1.5 * IQR\n",
        "  lim_sup = Q3 + 1.5 * IQR\n",
        "\n",
        "\n",
        "  outlier_mask = (df[columna] < lim_inf) | (df[columna] > lim_sup)\n",
        "\n",
        "\n",
        "  outliers_columna = df[outlier_mask]\n",
        "\n",
        "  outlier_indices = df.index[outlier_mask].tolist()\n",
        "  outlier_valores = df.loc[outlier_indices, columna].tolist()\n",
        "\n",
        "  outliers_col[columna] = outlier_indices"
      ],
      "metadata": {
        "id": "MgsamMVvA-c0"
      },
      "execution_count": null,
      "outputs": []
    },
    {
      "cell_type": "code",
      "source": [
        "for columna in outliers_col:\n",
        "\n",
        "  df.loc[outliers_col[columna],columna] = np.nan\n",
        "\n",
        "\n",
        "  media = df[columna].mean()\n",
        "  df[columna].fillna(media,inplace=True)\n",
        "\n",
        "df"
      ],
      "metadata": {
        "id": "k9I25s0kA_3Y"
      },
      "execution_count": null,
      "outputs": []
    }
  ]
}